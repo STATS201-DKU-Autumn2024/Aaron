{
 "cells": [
  {
   "cell_type": "code",
   "execution_count": null,
   "metadata": {},
   "outputs": [],
   "source": [
    "import pandas as pd\n",
    "\n",
    "# 数据文件在目录的 data 文件夹中\n",
    "data = pd.read_csv('../data/Data_Extraction.csv')\n",
    "print(data.head())"
   ]
  }
 ],
 "metadata": {
  "kernelspec": {
   "display_name": "Python 3",
   "language": "python",
   "name": "python3"
  },
  "language_info": {
   "codemirror_mode": {
    "name": "ipython",
    "version": 3
   },
   "file_extension": ".py",
   "mimetype": "text/x-python",
   "name": "python",
   "nbconvert_exporter": "python",
   "pygments_lexer": "ipython3",
   "version": "3.8.5"
  }
 },
 "nbformat": 4,
 "nbformat_minor": 4
}


import pandas as pd
import matplotlib.pyplot as plt
import seaborn as sns

# 加载 CSV 数据
data = pd.read_csv('../data/Data_Extraction.csv')

# 查看数据集的前几行
print(data.head())
