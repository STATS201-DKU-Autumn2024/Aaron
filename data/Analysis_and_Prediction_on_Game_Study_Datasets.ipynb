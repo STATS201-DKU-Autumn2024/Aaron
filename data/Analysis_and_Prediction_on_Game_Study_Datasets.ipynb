{
  "nbformat": 4,
  "nbformat_minor": 0,
  "metadata": {
    "colab": {
      "provenance": []
    },
    "kernelspec": {
      "name": "python3",
      "display_name": "Python 3"
    },
    "language_info": {
      "name": "python"
    }
  },
  "cells": [
    {
      "cell_type": "code",
      "execution_count": 2,
      "metadata": {
        "colab": {
          "base_uri": "https://localhost:8080/"
        },
        "id": "sd80MXd55wHN",
        "outputId": "00dfe3d6-36a5-4a6b-c967-94dbc6d339b9"
      },
      "outputs": [
        {
          "output_type": "stream",
          "name": "stderr",
          "text": [
            "[nltk_data] Downloading package vader_lexicon to /root/nltk_data...\n",
            "[nltk_data]   Package vader_lexicon is already up-to-date!\n",
            "[nltk_data] Downloading package stopwords to /root/nltk_data...\n",
            "[nltk_data]   Package stopwords is already up-to-date!\n"
          ]
        },
        {
          "output_type": "stream",
          "name": "stdout",
          "text": [
            "Game Data Preview:\n",
            "             game_id            condition  round_index  independent_wisdom  \\\n",
            "0  LtnXEGCJzhBnyARpj  dynamic_no_feedback            1            0.486667   \n",
            "1  LtnXEGCJzhBnyARpj  dynamic_no_feedback            2            0.724167   \n",
            "2  LtnXEGCJzhBnyARpj  dynamic_no_feedback            3            0.596667   \n",
            "3  LtnXEGCJzhBnyARpj  dynamic_no_feedback            4            0.489167   \n",
            "4  LtnXEGCJzhBnyARpj  dynamic_no_feedback            5            0.439167   \n",
            "\n",
            "   revised_wisdom  revised_wisdom_error  independent_wisdom_error  \\\n",
            "0        0.570000              0.480000                  0.396667   \n",
            "1        0.807500              0.027500                  0.055833   \n",
            "2        0.487500              0.422500                  0.313333   \n",
            "3        0.470833              0.000833                  0.019167   \n",
            "4        0.408333              0.328333                  0.359167   \n",
            "\n",
            "   correct_answer  task_instance_avg_error  top_1_ind  ...  top_12_rev  \\\n",
            "0            0.09                 0.274051       0.68  ...    0.480000   \n",
            "1            0.78                 0.229560       0.33  ...    0.027500   \n",
            "2            0.91                 0.304500       0.26  ...    0.422500   \n",
            "3            0.47                 0.194340       0.08  ...    0.000833   \n",
            "4            0.08                 0.219937       0.22  ...    0.328333   \n",
            "\n",
            "   top_12_ind_live  top_12_rev_live  top_12_rev_ex_ante  round_after_shock  \\\n",
            "0         0.480000         0.480000            0.480000                  1   \n",
            "1         0.027500         0.027500            0.027500                  2   \n",
            "2         0.422500         0.422500            0.422500                  3   \n",
            "3         0.000833         0.000833            0.000833                  4   \n",
            "4         0.328333         0.328333            0.328333                  5   \n",
            "\n",
            "   quarter  half                     game_condition_id  study  \\\n",
            "0        1     1  LtnXEGCJzhBnyARpjdynamic_no_feedback      2   \n",
            "1        1     1  LtnXEGCJzhBnyARpjdynamic_no_feedback      2   \n",
            "2        1     1  LtnXEGCJzhBnyARpjdynamic_no_feedback      2   \n",
            "3        1     1  LtnXEGCJzhBnyARpjdynamic_no_feedback      2   \n",
            "4        1     1  LtnXEGCJzhBnyARpjdynamic_no_feedback      2   \n",
            "\n",
            "   revised_error_relative2solo  \n",
            "0                     0.238359  \n",
            "1                    -0.163321  \n",
            "2                     0.121207  \n",
            "3                    -0.060539  \n",
            "4                     0.131087  \n",
            "\n",
            "[5 rows x 75 columns]\n",
            "\n",
            "Round Data Preview:\n",
            "  game_id condition  round_index  correct_answer plot_sequence  \\\n",
            "0     103   dynamic            1            0.09    easy->hard   \n",
            "1      86    static            1            0.09    easy->hard   \n",
            "2      86    static            1            0.09  medium->easy   \n",
            "3      73    static            1            0.09  medium->easy   \n",
            "4      82   dynamic            1            0.09  hard->medium   \n",
            "\n",
            "                                           player_id  cumulative_score  \\\n",
            "0  y7gd5boo3cl0s6ndywyv6kkkgfx5tf0msk4jcmaqwwlwcm...              0.96   \n",
            "1  l60q7ulnhyg1hozica9xq03v4s4ft4wpm5sfo9fprfxf8l...              0.69   \n",
            "2  wgz8xv0gwamdduyxy1eg7xnf1lv301eicutdll3vhtfb4g...              0.58   \n",
            "3  ol4dykm5w56gamoqs8rbdkqawwujoi5ahgic41khtumyde...              0.99   \n",
            "4  qsx1yagowvkapla9t5e5w3e32xluu11zomczvwon816cd4...              0.71   \n",
            "\n",
            "  difficulty  revised_guess  revised_error  ... half best_player ind_score  \\\n",
            "0       easy           0.05           0.04  ...    1       False      0.96   \n",
            "1       easy           0.40           0.31  ...    1       False      0.57   \n",
            "2     medium           0.51           0.42  ...    1       False      0.85   \n",
            "3     medium           0.10           0.01  ...    1       False      0.99   \n",
            "4       hard           0.38           0.29  ...    1       False      0.69   \n",
            "\n",
            "   cumulative_ind_score final_score  final_ind_score  improvement  group  \\\n",
            "0                  0.96       16.21            15.44         0.00      1   \n",
            "1                  0.57       15.34            12.76        -0.12      1   \n",
            "2                  0.85       14.31            14.15         0.27      1   \n",
            "3                  0.99       17.73            17.29         0.00      1   \n",
            "4                  0.69       17.28            17.06        -0.02      1   \n",
            "\n",
            "   best_player_initial  best_player_revised  \n",
            "0                False                False  \n",
            "1                False                False  \n",
            "2                False                False  \n",
            "3                False                False  \n",
            "4                False                False  \n",
            "\n",
            "[5 rows x 34 columns]\n"
          ]
        }
      ],
      "source": [
        "# Import libraries\n",
        "import pandas as pd\n",
        "import numpy as np\n",
        "import matplotlib.pyplot as plt\n",
        "import seaborn as sns\n",
        "from sklearn.model_selection import train_test_split\n",
        "from sklearn.ensemble import RandomForestClassifier\n",
        "from sklearn.metrics import classification_report, confusion_matrix\n",
        "from sklearn.feature_extraction.text import CountVectorizer\n",
        "from sklearn.decomposition import LatentDirichletAllocation\n",
        "import nltk\n",
        "from nltk.sentiment import SentimentIntensityAnalyzer\n",
        "from gensim import corpora, models\n",
        "\n",
        "# Initialize nltk components\n",
        "nltk.download('vader_lexicon')\n",
        "nltk.download('stopwords')\n",
        "\n",
        "# Load datasets\n",
        "game_data = pd.read_csv(\"https://raw.githubusercontent.com/STATS201-DKU-Autumn2024/Aaron/refs/heads/main/data/all_studies_game_data.csv\")\n",
        "round_data = pd.read_csv(\"https://raw.githubusercontent.com/STATS201-DKU-Autumn2024/Aaron/refs/heads/main/data/all_studies_round_data.csv\")\n",
        "\n",
        "# Inspect datasets\n",
        "print(\"Game Data Preview:\")\n",
        "print(game_data.head())\n",
        "print(\"\\nRound Data Preview:\")\n",
        "print(round_data.head())\n"
      ]
    },
    {
      "cell_type": "markdown",
      "source": [
        "##Implement NLP methods"
      ],
      "metadata": {
        "id": "pm2YuMIo6bNf"
      }
    },
    {
      "cell_type": "code",
      "source": [
        "import pandas as pd\n",
        "import numpy as np\n",
        "from nltk.sentiment import SentimentIntensityAnalyzer\n",
        "import matplotlib.pyplot as plt\n",
        "import nltk\n",
        "\n",
        "nltk.download('vader_lexicon')\n",
        "\n",
        "\n",
        "game_data_url = \"https://raw.githubusercontent.com/STATS201-DKU-Autumn2024/Aaron/refs/heads/main/data/all_studies_game_data.csv\"\n",
        "game_data = pd.read_csv(game_data_url)\n",
        "\n",
        "\n",
        "game_data['text_for_sentiment'] = game_data.apply(\n",
        "    lambda row: f\"Score {row['revised_wisdom']} with error {row['revised_wisdom_error']} in condition {row['condition']}\",\n",
        "    axis=1\n",
        ")\n",
        "\n",
        "# 初始化情感分析器\n",
        "sia = SentimentIntensityAnalyzer()\n",
        "\n",
        "# 计算情感分数\n",
        "game_data['sentiment_score'] = game_data['text_for_sentiment'].apply(\n",
        "    lambda x: sia.polarity_scores(x)['compound']\n",
        ")\n",
        "\n",
        "# 创建可视化\n",
        "plt.figure(figsize=(12, 6))\n",
        "plt.bar(range(50), game_data['sentiment_score'][:50], color='skyblue')\n",
        "plt.axhline(y=0, color='r', linestyle='-', alpha=0.3)\n",
        "plt.xlabel('样本序号')\n",
        "plt.ylabel('情感分数')\n",
        "plt.title('样本情感分数分布')\n",
        "plt.ylim(-1, 1)\n",
        "plt.grid(True, alpha=0.3)\n",
        "\n",
        "# 添加平均值线\n",
        "mean_sentiment = game_data['sentiment_score'].mean()\n",
        "plt.axhline(y=mean_sentiment, color='g', linestyle='--', alpha=0.5,\n",
        "            label=f'平均情感分数: {mean_sentiment:.3f}')\n",
        "plt.legend()\n",
        "\n",
        "plt.tight_layout()\n",
        "plt.show()\n",
        "\n",
        "# 打印一些统计信息\n",
        "print(\"\\n情感分数统计:\")\n",
        "print(game_data['sentiment_score'].describe())\n"
      ],
      "metadata": {
        "colab": {
          "base_uri": "https://localhost:8080/",
          "height": 1000
        },
        "id": "CXcnHVxoFCGn",
        "outputId": "44e61dcf-678a-4c18-8492-23737e9d40f5"
      },
      "execution_count": 13,
      "outputs": [
        {
          "output_type": "stream",
          "name": "stderr",
          "text": [
            "[nltk_data] Downloading package vader_lexicon to /root/nltk_data...\n",
            "[nltk_data]   Package vader_lexicon is already up-to-date!\n",
            "<ipython-input-13-6428b2f0a0cc>:44: UserWarning: Glyph 26679 (\\N{CJK UNIFIED IDEOGRAPH-6837}) missing from current font.\n",
            "  plt.tight_layout()\n",
            "<ipython-input-13-6428b2f0a0cc>:44: UserWarning: Glyph 26412 (\\N{CJK UNIFIED IDEOGRAPH-672C}) missing from current font.\n",
            "  plt.tight_layout()\n",
            "<ipython-input-13-6428b2f0a0cc>:44: UserWarning: Glyph 24207 (\\N{CJK UNIFIED IDEOGRAPH-5E8F}) missing from current font.\n",
            "  plt.tight_layout()\n",
            "<ipython-input-13-6428b2f0a0cc>:44: UserWarning: Glyph 21495 (\\N{CJK UNIFIED IDEOGRAPH-53F7}) missing from current font.\n",
            "  plt.tight_layout()\n",
            "<ipython-input-13-6428b2f0a0cc>:44: UserWarning: Glyph 24773 (\\N{CJK UNIFIED IDEOGRAPH-60C5}) missing from current font.\n",
            "  plt.tight_layout()\n",
            "<ipython-input-13-6428b2f0a0cc>:44: UserWarning: Glyph 24863 (\\N{CJK UNIFIED IDEOGRAPH-611F}) missing from current font.\n",
            "  plt.tight_layout()\n",
            "<ipython-input-13-6428b2f0a0cc>:44: UserWarning: Glyph 20998 (\\N{CJK UNIFIED IDEOGRAPH-5206}) missing from current font.\n",
            "  plt.tight_layout()\n",
            "<ipython-input-13-6428b2f0a0cc>:44: UserWarning: Glyph 25968 (\\N{CJK UNIFIED IDEOGRAPH-6570}) missing from current font.\n",
            "  plt.tight_layout()\n",
            "<ipython-input-13-6428b2f0a0cc>:44: UserWarning: Glyph 24067 (\\N{CJK UNIFIED IDEOGRAPH-5E03}) missing from current font.\n",
            "  plt.tight_layout()\n",
            "<ipython-input-13-6428b2f0a0cc>:44: UserWarning: Glyph 24179 (\\N{CJK UNIFIED IDEOGRAPH-5E73}) missing from current font.\n",
            "  plt.tight_layout()\n",
            "<ipython-input-13-6428b2f0a0cc>:44: UserWarning: Glyph 22343 (\\N{CJK UNIFIED IDEOGRAPH-5747}) missing from current font.\n",
            "  plt.tight_layout()\n",
            "/usr/local/lib/python3.10/dist-packages/IPython/core/pylabtools.py:151: UserWarning: Glyph 24773 (\\N{CJK UNIFIED IDEOGRAPH-60C5}) missing from current font.\n",
            "  fig.canvas.print_figure(bytes_io, **kw)\n",
            "/usr/local/lib/python3.10/dist-packages/IPython/core/pylabtools.py:151: UserWarning: Glyph 24863 (\\N{CJK UNIFIED IDEOGRAPH-611F}) missing from current font.\n",
            "  fig.canvas.print_figure(bytes_io, **kw)\n",
            "/usr/local/lib/python3.10/dist-packages/IPython/core/pylabtools.py:151: UserWarning: Glyph 20998 (\\N{CJK UNIFIED IDEOGRAPH-5206}) missing from current font.\n",
            "  fig.canvas.print_figure(bytes_io, **kw)\n",
            "/usr/local/lib/python3.10/dist-packages/IPython/core/pylabtools.py:151: UserWarning: Glyph 25968 (\\N{CJK UNIFIED IDEOGRAPH-6570}) missing from current font.\n",
            "  fig.canvas.print_figure(bytes_io, **kw)\n",
            "/usr/local/lib/python3.10/dist-packages/IPython/core/pylabtools.py:151: UserWarning: Glyph 26679 (\\N{CJK UNIFIED IDEOGRAPH-6837}) missing from current font.\n",
            "  fig.canvas.print_figure(bytes_io, **kw)\n",
            "/usr/local/lib/python3.10/dist-packages/IPython/core/pylabtools.py:151: UserWarning: Glyph 26412 (\\N{CJK UNIFIED IDEOGRAPH-672C}) missing from current font.\n",
            "  fig.canvas.print_figure(bytes_io, **kw)\n",
            "/usr/local/lib/python3.10/dist-packages/IPython/core/pylabtools.py:151: UserWarning: Glyph 24067 (\\N{CJK UNIFIED IDEOGRAPH-5E03}) missing from current font.\n",
            "  fig.canvas.print_figure(bytes_io, **kw)\n",
            "/usr/local/lib/python3.10/dist-packages/IPython/core/pylabtools.py:151: UserWarning: Glyph 24207 (\\N{CJK UNIFIED IDEOGRAPH-5E8F}) missing from current font.\n",
            "  fig.canvas.print_figure(bytes_io, **kw)\n",
            "/usr/local/lib/python3.10/dist-packages/IPython/core/pylabtools.py:151: UserWarning: Glyph 21495 (\\N{CJK UNIFIED IDEOGRAPH-53F7}) missing from current font.\n",
            "  fig.canvas.print_figure(bytes_io, **kw)\n",
            "/usr/local/lib/python3.10/dist-packages/IPython/core/pylabtools.py:151: UserWarning: Glyph 24179 (\\N{CJK UNIFIED IDEOGRAPH-5E73}) missing from current font.\n",
            "  fig.canvas.print_figure(bytes_io, **kw)\n",
            "/usr/local/lib/python3.10/dist-packages/IPython/core/pylabtools.py:151: UserWarning: Glyph 22343 (\\N{CJK UNIFIED IDEOGRAPH-5747}) missing from current font.\n",
            "  fig.canvas.print_figure(bytes_io, **kw)\n"
          ]
        },
        {
          "output_type": "display_data",
          "data": {
            "text/plain": [
              "<Figure size 1200x600 with 1 Axes>"
            ],
            "image/png": "[encoded data removed]"
          },
          "metadata": {}
        },
        {
          "output_type": "stream",
          "name": "stdout",
          "text": [
            "\n",
            "情感分数统计:\n",
            "count    13700.000000\n",
            "mean        -0.390919\n",
            "std          0.063322\n",
            "min         -0.401900\n",
            "25%         -0.401900\n",
            "50%         -0.401900\n",
            "75%         -0.401900\n",
            "max         -0.025800\n",
            "Name: sentiment_score, dtype: float64\n"
          ]
        }
      ]
    },
    {
      "cell_type": "markdown",
      "source": [
        "##Prediction Task"
      ],
      "metadata": {
        "id": "QU0NEnbyFOro"
      }
    },
    {
      "cell_type": "code",
      "source": [
        "\n",
        "# Use features and target for supervised learning (replace columns as needed)\n",
        "features = ['independent_wisdom', 'revised_wisdom', 'task_instance_avg_error', 'sentiment_score']\n",
        "target = 'revised_wisdom_error'\n",
        "\n",
        "# Drop rows with missing values in selected columns\n",
        "game_data = game_data.dropna(subset=features + [target])\n",
        "\n",
        "X = game_data[features]\n",
        "y = game_data[target]\n",
        "\n",
        "# Train-test split\n",
        "X_train, X_test, y_train, y_test = train_test_split(X, y, test_size=0.2, random_state=42)\n",
        "\n",
        "# Train a Random Forest Regressor\n",
        "model = RandomForestRegressor(random_state=42)\n",
        "model.fit(X_train, y_train)\n",
        "\n",
        "# Make predictions and evaluate model\n",
        "y_pred = model.predict(X_test)\n",
        "mse = mean_squared_error(y_test, y_pred)\n",
        "r2 = r2_score(y_test, y_pred)\n",
        "\n",
        "print(\"Mean Squared Error:\", mse)\n",
        "print(\"R-squared:\", r2)"
      ],
      "metadata": {
        "colab": {
          "base_uri": "https://localhost:8080/"
        },
        "id": "IF-4dJnHFKY2",
        "outputId": "85c71603-ba0c-4d18-dd73-144fec92421e"
      },
      "execution_count": 14,
      "outputs": [
        {
          "output_type": "stream",
          "name": "stdout",
          "text": [
            "Mean Squared Error: 0.01103467347684125\n",
            "R-squared: 0.04160679428007841\n"
          ]
        }
      ]
    }
  ]
}